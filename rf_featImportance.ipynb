{
 "cells": [
  {
   "cell_type": "code",
   "execution_count": 3,
   "metadata": {},
   "outputs": [],
   "source": [
    "import pandas as pd\n",
    "from sklearn.ensemble import RandomForestClassifier\n",
    "from sklearn.model_selection import train_test_split"
   ]
  },
  {
   "cell_type": "code",
   "execution_count": 18,
   "metadata": {},
   "outputs": [],
   "source": [
    "rf = RandomForestClassifier()"
   ]
  },
  {
   "cell_type": "code",
   "execution_count": 6,
   "metadata": {},
   "outputs": [],
   "source": [
    "train = pd.read_csv('~/Documents/personal/Kaggle_DaysSF/kaggledays-sf-hackathon_2/train_2.csv')"
   ]
  },
  {
   "cell_type": "code",
   "execution_count": 27,
   "metadata": {},
   "outputs": [],
   "source": [
    "train.fillna(999,inplace=True)"
   ]
  },
  {
   "cell_type": "code",
   "execution_count": 37,
   "metadata": {},
   "outputs": [],
   "source": [
    "X = train.drop(['id','target', 'B_5','B_6','B_14','B_15'], axis=1)\n",
    "y = train['target']"
   ]
  },
  {
   "cell_type": "code",
   "execution_count": 38,
   "metadata": {},
   "outputs": [],
   "source": [
    "X_train, X_test, y_train, y_test = train_test_split(X, y, test_size=0.8, random_state=42)"
   ]
  },
  {
   "cell_type": "code",
   "execution_count": 39,
   "metadata": {},
   "outputs": [
    {
     "data": {
      "text/plain": [
       "RandomForestClassifier(bootstrap=True, class_weight=None, criterion='gini',\n",
       "            max_depth=None, max_features='auto', max_leaf_nodes=None,\n",
       "            min_impurity_decrease=0.0, min_impurity_split=None,\n",
       "            min_samples_leaf=1, min_samples_split=2,\n",
       "            min_weight_fraction_leaf=0.0, n_estimators=10, n_jobs=1,\n",
       "            oob_score=False, random_state=None, verbose=0,\n",
       "            warm_start=False)"
      ]
     },
     "execution_count": 39,
     "metadata": {},
     "output_type": "execute_result"
    }
   ],
   "source": [
    "rf.fit(X_train, y_train)"
   ]
  },
  {
   "cell_type": "code",
   "execution_count": 40,
   "metadata": {},
   "outputs": [],
   "source": [
    "feat_importances = rf.feature_importances_"
   ]
  },
  {
   "cell_type": "code",
   "execution_count": null,
   "metadata": {},
   "outputs": [],
   "source": []
  },
  {
   "cell_type": "code",
   "execution_count": 41,
   "metadata": {},
   "outputs": [
    {
     "data": {
      "text/plain": [
       "0.9935107883144273"
      ]
     },
     "execution_count": 41,
     "metadata": {},
     "output_type": "execute_result"
    }
   ],
   "source": [
    "rf.score(X_test, y_test)"
   ]
  },
  {
   "cell_type": "code",
   "execution_count": 42,
   "metadata": {},
   "outputs": [],
   "source": [
    "feature_importances = pd.DataFrame(rf.feature_importances_,\n",
    "                                   index = X_train.columns,\n",
    "                                    columns=['importance']).sort_values('importance', ascending=False)"
   ]
  },
  {
   "cell_type": "code",
   "execution_count": 56,
   "metadata": {},
   "outputs": [
    {
     "data": {
      "text/plain": [
       "{'importance': {'B_10': 0.19187576549618096,\n",
       "  'B_12': 0.12196538479245385,\n",
       "  'B_3': 0.09477843078266046,\n",
       "  'B_4': 0.06626960321484619,\n",
       "  'B_8': 0.06568012817204709,\n",
       "  'B_1': 0.036810960228411356,\n",
       "  'B_11': 0.030645364149573993,\n",
       "  'B_7': 0.01398794787156778,\n",
       "  'D_34': 0.009851900788256632,\n",
       "  'B_9': 0.008442278971383908,\n",
       "  'B_13': 0.008383010476157433,\n",
       "  'D_138': 0.008377608229942702,\n",
       "  'D_13': 0.00823363886144066,\n",
       "  'D_152': 0.008094906686233411,\n",
       "  'D_6': 0.007465546433614946,\n",
       "  'D_66': 0.00742338296972654,\n",
       "  'B_2': 0.007068231803013659,\n",
       "  'D_56': 0.0064672178859989365,\n",
       "  'D_40': 0.0060322349080372,\n",
       "  'D_117': 0.005843876999890954,\n",
       "  'D_1': 0.005823489426823809,\n",
       "  'D_166': 0.005756077280762819,\n",
       "  'D_142': 0.005595105562480612,\n",
       "  'D_145': 0.005529595051291506,\n",
       "  'D_17': 0.005422210502515327,\n",
       "  'D_132': 0.005045378714712107,\n",
       "  'D_121': 0.004820240358973744,\n",
       "  'D_116': 0.004476325734380257,\n",
       "  'D_26': 0.003834412478009973,\n",
       "  'D_113': 0.0036566751338981186,\n",
       "  'D_95': 0.003444874173100629,\n",
       "  'D_81': 0.0032196219533405747,\n",
       "  'D_42': 0.0031577160329737666,\n",
       "  'D_84': 0.0030502095988194163,\n",
       "  'D_149': 0.0029950720694506524,\n",
       "  'D_146': 0.0028761360531474782,\n",
       "  'D_153': 0.002549191399235794,\n",
       "  'D_64': 0.0024659276520132573,\n",
       "  'D_74': 0.002397031493884794,\n",
       "  'D_8': 0.0023757660222025676,\n",
       "  'D_123': 0.0023606635102753153,\n",
       "  'D_60': 0.002337827819166995,\n",
       "  'D_24': 0.0023244349737115756,\n",
       "  'C_9': 0.0023068210682516293,\n",
       "  'D_75': 0.0022409068023803466,\n",
       "  'D_151': 0.002227311039786575,\n",
       "  'D_136': 0.002187675793919943,\n",
       "  'D_79': 0.002184988581042351,\n",
       "  'D_53': 0.0021394543416945063,\n",
       "  'D_140': 0.0021368556665959946,\n",
       "  'D_114': 0.0021355009062702336,\n",
       "  'D_92': 0.002119709978938453,\n",
       "  'D_122': 0.0021127206239859105,\n",
       "  'C_12': 0.0020957942901557577,\n",
       "  'D_22': 0.0020664177203724393,\n",
       "  'D_31': 0.0020627576651782564,\n",
       "  'D_78': 0.002035211538244318,\n",
       "  'D_90': 0.002025635861347464,\n",
       "  'D_15': 0.0020161980974378506,\n",
       "  'D_37': 0.002014796691994115,\n",
       "  'D_58': 0.0020123638105957113,\n",
       "  'D_28': 0.001997916533318512,\n",
       "  'D_133': 0.001992931254868459,\n",
       "  'D_91': 0.001987602484692759,\n",
       "  'D_18': 0.0019619075267628744,\n",
       "  'D_14': 0.0019541703890623885,\n",
       "  'D_93': 0.001951310904803581,\n",
       "  'D_67': 0.0019267152966626288,\n",
       "  'D_164': 0.0019155249947742712,\n",
       "  'D_102': 0.0019038411129974036,\n",
       "  'D_135': 0.0018750431435303773,\n",
       "  'C_17': 0.0018585703415694473,\n",
       "  'D_94': 0.0018456452031676562,\n",
       "  'D_27': 0.0018341982746441668,\n",
       "  'D_126': 0.0018180219604735197,\n",
       "  'D_124': 0.0018112051949515974,\n",
       "  'D_144': 0.0018050270646388443,\n",
       "  'D_105': 0.0018017420908368151,\n",
       "  'D_155': 0.0017843191609459897,\n",
       "  'D_112': 0.001770908755937748,\n",
       "  'D_86': 0.0017530163583762317,\n",
       "  'D_21': 0.001748394715216011,\n",
       "  'D_61': 0.0017288271203957657,\n",
       "  'D_7': 0.0017280770859250249,\n",
       "  'D_159': 0.0016832269716460422,\n",
       "  'D_110': 0.0016788166632504052,\n",
       "  'D_134': 0.0016635309933312962,\n",
       "  'D_85': 0.0016603523758304429,\n",
       "  'D_44': 0.001651874142422128,\n",
       "  'D_111': 0.0016354752661278255,\n",
       "  'D_30': 0.0016315477804903576,\n",
       "  'D_137': 0.0016271530126395824,\n",
       "  'D_38': 0.0016210780221980858,\n",
       "  'D_130': 0.0016181570945772669,\n",
       "  'D_129': 0.0016170566754238815,\n",
       "  'D_148': 0.0016000326675557296,\n",
       "  'D_87': 0.0015558580061407292,\n",
       "  'D_25': 0.0015555967453447141,\n",
       "  'D_9': 0.0015547256121479051,\n",
       "  'D_154': 0.0015495334265364733,\n",
       "  'D_165': 0.0015462576387070832,\n",
       "  'D_72': 0.0014880907989530327,\n",
       "  'D_158': 0.0014699501844164288,\n",
       "  'D_141': 0.0014665167601186817,\n",
       "  'D_46': 0.0014575288827850597,\n",
       "  'D_47': 0.0014548253711717848,\n",
       "  'D_48': 0.0014505703008474904,\n",
       "  'D_127': 0.0014393803203290973,\n",
       "  'D_49': 0.0014328285449197978,\n",
       "  'C_7': 0.0014273349411153924,\n",
       "  'D_12': 0.0013808894431351628,\n",
       "  'C_1': 0.0013672644073863469,\n",
       "  'D_16': 0.0013588194074944891,\n",
       "  'D_33': 0.001356216566365212,\n",
       "  'D_139': 0.0013527234886498624,\n",
       "  'C_3': 0.0013416568600225017,\n",
       "  'D_69': 0.001326891901790514,\n",
       "  'D_19': 0.0012993110726356304,\n",
       "  'D_115': 0.0012984967526557007,\n",
       "  'C_14': 0.0012917116647031663,\n",
       "  'D_63': 0.0012814419293831272,\n",
       "  'D_20': 0.0012759873330715219,\n",
       "  'D_76': 0.0012679595781066113,\n",
       "  'D_83': 0.0012570841380485508,\n",
       "  'D_98': 0.0012562808432092214,\n",
       "  'D_109': 0.0012527158882990612,\n",
       "  'D_131': 0.001249930292175874,\n",
       "  'D_82': 0.0012483555505561693,\n",
       "  'D_54': 0.0012416417225999314,\n",
       "  'D_89': 0.0012291091463302204,\n",
       "  'C_2': 0.0012235734606678007,\n",
       "  'D_150': 0.0012206721390279807,\n",
       "  'D_97': 0.0011999102835152549,\n",
       "  'D_52': 0.0011917348287809211,\n",
       "  'C_4': 0.0011885625306454013,\n",
       "  'C_8': 0.0011862078030855782,\n",
       "  'D_101': 0.001185756481697159,\n",
       "  'D_71': 0.0011766051498349297,\n",
       "  'D_43': 0.001152004441144524,\n",
       "  'D_100': 0.001141491508928643,\n",
       "  'D_59': 0.001134552953513751,\n",
       "  'C_5': 0.0011276757437396086,\n",
       "  'D_108': 0.0011270383544341074,\n",
       "  'D_161': 0.0011232729320435116,\n",
       "  'D_29': 0.0011192232499511834,\n",
       "  'D_143': 0.0011094198407779802,\n",
       "  'D_163': 0.001103525829088828,\n",
       "  'D_160': 0.0010937431655265826,\n",
       "  'D_11': 0.0010779188227933141,\n",
       "  'D_68': 0.0010770984570923332,\n",
       "  'D_62': 0.0010685384221525772,\n",
       "  'D_50': 0.0010505813019356912,\n",
       "  'D_51': 0.0010319662259585297,\n",
       "  'D_120': 0.0009712762468413727,\n",
       "  'D_2': 0.0009682615946582263,\n",
       "  'D_162': 0.0009390118828304482,\n",
       "  'D_147': 0.0009047792200845763,\n",
       "  'D_156': 0.000904614902999894,\n",
       "  'D_157': 0.0009044213265906927,\n",
       "  'D_106': 0.0008931254320324658,\n",
       "  'D_119': 0.0008913357938697452,\n",
       "  'C_13': 0.0008905185116265017,\n",
       "  'C_6': 0.0008676078582666978,\n",
       "  'D_45': 0.0008468350499203686,\n",
       "  'C_15': 0.0008025263086369244,\n",
       "  'D_39': 0.0007942808648472507,\n",
       "  'D_125': 0.0007788682408478313,\n",
       "  'D_99': 0.0007743195862387267,\n",
       "  'D_118': 0.0007664668743192532,\n",
       "  'D_3': 0.0007567040142996884,\n",
       "  'D_80': 0.0007484107846038417,\n",
       "  'C_11': 0.0007428208777915307,\n",
       "  'D_65': 0.000727503501659514,\n",
       "  'D_128': 0.0007101544027152075,\n",
       "  'D_23': 0.000665928397173472,\n",
       "  'C_10': 0.0006533036726282815,\n",
       "  'D_32': 0.0006468821613095849,\n",
       "  'A_2': 0.0006256573304882681,\n",
       "  'D_70': 0.0006233374233008362,\n",
       "  'D_96': 0.0005923014336445372,\n",
       "  'D_35': 0.0005677643345504533,\n",
       "  'D_57': 0.0005215900559065502,\n",
       "  'D_77': 0.0005155721637711072,\n",
       "  'D_10': 0.0005094098130749894,\n",
       "  'D_103': 0.000449354935545979,\n",
       "  'D_104': 0.0004404712193437973,\n",
       "  'D_73': 0.00043949832631342954,\n",
       "  'C_16': 0.0004194886862976187,\n",
       "  'D_107': 0.00039219219518488673,\n",
       "  'A_1': 0.00036722493547715655,\n",
       "  'D_36': 0.0003480446625844822,\n",
       "  'D_88': 0.0002824911482919684,\n",
       "  'D_5': 0.00026329456140695415,\n",
       "  'D_41': 0.00021136580089449458,\n",
       "  'D_55': 0.00017443973189041893,\n",
       "  'D_4': 3.624245990450766e-05}}"
      ]
     },
     "execution_count": 56,
     "metadata": {},
     "output_type": "execute_result"
    }
   ],
   "source": [
    "feature_importances.to_dict()"
   ]
  },
  {
   "cell_type": "code",
   "execution_count": 52,
   "metadata": {},
   "outputs": [
    {
     "data": {
      "text/plain": [
       "<matplotlib.axes._subplots.AxesSubplot at 0x1a108127b8>"
      ]
     },
     "execution_count": 52,
     "metadata": {},
     "output_type": "execute_result"
    },
    {
     "data": {
      "image/png": "[encoded data removed]",
      "text/plain": [
       "<Figure size 432x288 with 1 Axes>"
      ]
     },
     "metadata": {},
     "output_type": "display_data"
    }
   ],
   "source": [
    "feature_importances.head(15).plot()"
   ]
  },
  {
   "cell_type": "code",
   "execution_count": 47,
   "metadata": {},
   "outputs": [
    {
     "data": {
      "text/plain": [
       "<matplotlib.axes._subplots.AxesSubplot at 0x1a105f6ba8>"
      ]
     },
     "execution_count": 47,
     "metadata": {},
     "output_type": "execute_result"
    },
    {
     "data": {
      "image/png": "[encoded data removed]",
      "text/plain": [
       "<Figure size 432x288 with 1 Axes>"
      ]
     },
     "metadata": {},
     "output_type": "display_data"
    }
   ],
   "source": [
    "%matplotlib inline\n",
    "feature_importances.head(25).plot()"
   ]
  },
  {
   "cell_type": "code",
   "execution_count": 64,
   "metadata": {},
   "outputs": [],
   "source": [
    "top50_feat_list = feature_importances.head(50).drop('importance', axis=1)"
   ]
  },
  {
   "cell_type": "code",
   "execution_count": 66,
   "metadata": {},
   "outputs": [],
   "source": [
    "top50_feat_list = top50_feat_list.index.tolist()"
   ]
  },
  {
   "cell_type": "code",
   "execution_count": 67,
   "metadata": {},
   "outputs": [
    {
     "data": {
      "text/plain": [
       "['B_10',\n",
       " 'B_12',\n",
       " 'B_3',\n",
       " 'B_4',\n",
       " 'B_8',\n",
       " 'B_1',\n",
       " 'B_11',\n",
       " 'B_7',\n",
       " 'D_34',\n",
       " 'B_9',\n",
       " 'B_13',\n",
       " 'D_138',\n",
       " 'D_13',\n",
       " 'D_152',\n",
       " 'D_6',\n",
       " 'D_66',\n",
       " 'B_2',\n",
       " 'D_56',\n",
       " 'D_40',\n",
       " 'D_117',\n",
       " 'D_1',\n",
       " 'D_166',\n",
       " 'D_142',\n",
       " 'D_145',\n",
       " 'D_17',\n",
       " 'D_132',\n",
       " 'D_121',\n",
       " 'D_116',\n",
       " 'D_26',\n",
       " 'D_113',\n",
       " 'D_95',\n",
       " 'D_81',\n",
       " 'D_42',\n",
       " 'D_84',\n",
       " 'D_149',\n",
       " 'D_146',\n",
       " 'D_153',\n",
       " 'D_64',\n",
       " 'D_74',\n",
       " 'D_8',\n",
       " 'D_123',\n",
       " 'D_60',\n",
       " 'D_24',\n",
       " 'C_9',\n",
       " 'D_75',\n",
       " 'D_151',\n",
       " 'D_136',\n",
       " 'D_79',\n",
       " 'D_53',\n",
       " 'D_140']"
      ]
     },
     "execution_count": 67,
     "metadata": {},
     "output_type": "execute_result"
    }
   ],
   "source": [
    "top50_feat_list"
   ]
  },
  {
   "cell_type": "raw",
   "metadata": {},
   "source": []
  },
  {
   "cell_type": "code",
   "execution_count": null,
   "metadata": {},
   "outputs": [],
   "source": []
  },
  {
   "cell_type": "code",
   "execution_count": null,
   "metadata": {},
   "outputs": [],
   "source": []
  },
  {
   "cell_type": "code",
   "execution_count": null,
   "metadata": {},
   "outputs": [],
   "source": []
  },
  {
   "cell_type": "code",
   "execution_count": null,
   "metadata": {},
   "outputs": [],
   "source": []
  },
  {
   "cell_type": "raw",
   "metadata": {},
   "source": []
  },
  {
   "cell_type": "code",
   "execution_count": null,
   "metadata": {},
   "outputs": [],
   "source": []
  },
  {
   "cell_type": "raw",
   "metadata": {},
   "source": []
  }
 ],
 "metadata": {
  "kernelspec": {
   "display_name": "Python 3",
   "language": "python",
   "name": "python3"
  },
  "language_info": {
   "codemirror_mode": {
    "name": "ipython",
    "version": 3
   },
   "file_extension": ".py",
   "mimetype": "text/x-python",
   "name": "python",
   "nbconvert_exporter": "python",
   "pygments_lexer": "ipython3",
   "version": "3.6.5"
  }
 },
 "nbformat": 4,
 "nbformat_minor": 2
}
